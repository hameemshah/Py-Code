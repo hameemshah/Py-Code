{
 "cells": [
  {
   "cell_type": "code",
   "execution_count": 1,
   "id": "7d463b71",
   "metadata": {},
   "outputs": [
    {
     "data": {
      "text/plain": [
       "4.0"
      ]
     },
     "execution_count": 1,
     "metadata": {},
     "output_type": "execute_result"
    }
   ],
   "source": [
    "import numpy as np\n",
    "x = np.array([-10,0,10])\n",
    "y = np.array([0.1, 0.4, 0.5])\n",
    "np.inner(x, y) #Dot Product / inner product, or multiplication of matrix"
   ]
  },
  {
   "cell_type": "code",
   "execution_count": 2,
   "id": "fce7f5d2",
   "metadata": {},
   "outputs": [
    {
     "data": {
      "text/plain": [
       "4.0"
      ]
     },
     "execution_count": 2,
     "metadata": {},
     "output_type": "execute_result"
    }
   ],
   "source": [
    "np.inner(y,x) #numpy implicitly performs transpose before multiplying"
   ]
  },
  {
   "cell_type": "code",
   "execution_count": 3,
   "id": "a5860c7a",
   "metadata": {},
   "outputs": [
    {
     "data": {
      "text/plain": [
       "4.0"
      ]
     },
     "execution_count": 3,
     "metadata": {},
     "output_type": "execute_result"
    }
   ],
   "source": [
    "x @ y #Another way of finding dot product"
   ]
  },
  {
   "cell_type": "code",
   "execution_count": 8,
   "id": "226f00f5",
   "metadata": {},
   "outputs": [
    {
     "data": {
      "text/plain": [
       "4.0"
      ]
     },
     "execution_count": 8,
     "metadata": {},
     "output_type": "execute_result"
    }
   ],
   "source": [
    "np.dot(x,y)"
   ]
  },
  {
   "cell_type": "code",
   "execution_count": 9,
   "id": "585e4f55",
   "metadata": {},
   "outputs": [
    {
     "data": {
      "text/plain": [
       "1.0"
      ]
     },
     "execution_count": 9,
     "metadata": {},
     "output_type": "execute_result"
    }
   ],
   "source": [
    "np.ones(len(y)) @ y"
   ]
  },
  {
   "cell_type": "code",
   "execution_count": 10,
   "id": "ee8e48e1",
   "metadata": {},
   "outputs": [
    {
     "data": {
      "text/plain": [
       "0.3333333333333333"
      ]
     },
     "execution_count": 10,
     "metadata": {},
     "output_type": "execute_result"
    }
   ],
   "source": [
    "(np.ones(len(y)) @ y) / len(y)"
   ]
  },
  {
   "cell_type": "code",
   "execution_count": 11,
   "id": "cd9b8e53",
   "metadata": {},
   "outputs": [
    {
     "data": {
      "text/plain": [
       "0.3333333333333333"
      ]
     },
     "execution_count": 11,
     "metadata": {},
     "output_type": "execute_result"
    }
   ],
   "source": [
    "(np.ones(len(y)) @ y) / y.shape[0]"
   ]
  },
  {
   "cell_type": "code",
   "execution_count": 12,
   "id": "aa8ad69b",
   "metadata": {},
   "outputs": [
    {
     "data": {
      "text/plain": [
       "0.42000000000000004"
      ]
     },
     "execution_count": 12,
     "metadata": {},
     "output_type": "execute_result"
    }
   ],
   "source": [
    "y @ y"
   ]
  },
  {
   "cell_type": "code",
   "execution_count": 13,
   "id": "d37c8b5d",
   "metadata": {},
   "outputs": [
    {
     "data": {
      "text/plain": [
       "200"
      ]
     },
     "execution_count": 13,
     "metadata": {},
     "output_type": "execute_result"
    }
   ],
   "source": [
    "x @ x"
   ]
  },
  {
   "cell_type": "code",
   "execution_count": 19,
   "id": "8955fcf7",
   "metadata": {},
   "outputs": [],
   "source": [
    "e = np.array([-3,2,1,-1,1])\n",
    "f = np.array([3,4])"
   ]
  },
  {
   "cell_type": "code",
   "execution_count": 22,
   "id": "695c9285",
   "metadata": {},
   "outputs": [
    {
     "data": {
      "text/plain": [
       "1.7888543819998317"
      ]
     },
     "execution_count": 22,
     "metadata": {},
     "output_type": "execute_result"
    }
   ],
   "source": [
    "np.linalg.norm(e) / np.sqrt(len(e)) #root mean square"
   ]
  },
  {
   "cell_type": "code",
   "execution_count": 24,
   "id": "34af866c",
   "metadata": {},
   "outputs": [
    {
     "data": {
      "text/plain": [
       "5.0"
      ]
     },
     "execution_count": 24,
     "metadata": {},
     "output_type": "execute_result"
    }
   ],
   "source": [
    "np.linalg.norm(f) #gives us the ||e||"
   ]
  },
  {
   "cell_type": "code",
   "execution_count": 25,
   "id": "903c13f3",
   "metadata": {},
   "outputs": [
    {
     "data": {
      "text/plain": [
       "5.0"
      ]
     },
     "execution_count": 25,
     "metadata": {},
     "output_type": "execute_result"
    }
   ],
   "source": [
    "#Calculate distance between two vectors using the norm\n",
    "u = np.array([0,3])\n",
    "v = np.array([4,0])\n",
    "np.linalg.norm(u-v)"
   ]
  },
  {
   "cell_type": "code",
   "execution_count": 26,
   "id": "288c56e3",
   "metadata": {},
   "outputs": [
    {
     "data": {
      "text/plain": [
       "array([-4,  3])"
      ]
     },
     "execution_count": 26,
     "metadata": {},
     "output_type": "execute_result"
    }
   ],
   "source": [
    "u-v"
   ]
  },
  {
   "cell_type": "code",
   "execution_count": 7,
   "id": "40fcaac5",
   "metadata": {},
   "outputs": [
    {
     "data": {
      "text/latex": [
       "$\\displaystyle \\left( \\left[\\begin{matrix}1 & 0 & \\frac{7}{3}\\\\0 & 1 & \\frac{1}{3}\\end{matrix}\\right], \\  \\left( 0, \\  1\\right)\\right)$"
      ],
      "text/plain": [
       "⎛⎡1  0  7/3⎤        ⎞\n",
       "⎜⎢         ⎥, (0, 1)⎟\n",
       "⎝⎣0  1  1/3⎦        ⎠"
      ]
     },
     "execution_count": 7,
     "metadata": {},
     "output_type": "execute_result"
    }
   ],
   "source": [
    "import sympy as sp\n",
    "sp.init_printing()\n",
    "sp.Matrix(2,3,[1,-1,2,1,2,3]).rref()"
   ]
  },
  {
   "cell_type": "code",
   "execution_count": 47,
   "id": "41262145",
   "metadata": {},
   "outputs": [
    {
     "data": {
      "text/latex": [
       "$\\displaystyle \\left( \\left[\\begin{matrix}1 & 0 & 0 & 0 & 0 & 0\\\\0 & 1 & 0 & 0 & 1 & 0\\\\0 & 0 & 1 & 1 & -1 & 0\\\\0 & 0 & 0 & 0 & 0 & 0\\end{matrix}\\right], \\  \\left( 0, \\  1, \\  2\\right)\\right)$"
      ],
      "text/plain": [
       "⎛⎡1  0  0  0  0   0⎤           ⎞\n",
       "⎜⎢                 ⎥           ⎟\n",
       "⎜⎢0  1  0  0  1   0⎥           ⎟\n",
       "⎜⎢                 ⎥, (0, 1, 2)⎟\n",
       "⎜⎢0  0  1  1  -1  0⎥           ⎟\n",
       "⎜⎢                 ⎥           ⎟\n",
       "⎝⎣0  0  0  0  0   0⎦           ⎠"
      ]
     },
     "execution_count": 47,
     "metadata": {},
     "output_type": "execute_result"
    }
   ],
   "source": [
    "sp.Matrix(4,6,[1,1,1,1,0,0,1,2,1,1,1,0,2,1,2,2,-1,0,1,6,2,2,4,0]).rref()"
   ]
  },
  {
   "cell_type": "code",
   "execution_count": 8,
   "id": "507391a8",
   "metadata": {},
   "outputs": [],
   "source": [
    "A = sp.Matrix(3,3,(1,0,4,-1,2,0,4,-3,-3))"
   ]
  },
  {
   "cell_type": "code",
   "execution_count": 49,
   "id": "8e04aa2e",
   "metadata": {},
   "outputs": [
    {
     "data": {
      "image/png": "[encoded data removed]",
      "text/latex": [
       "$\\displaystyle -26$"
      ],
      "text/plain": [
       "-26"
      ]
     },
     "execution_count": 49,
     "metadata": {},
     "output_type": "execute_result"
    }
   ],
   "source": [
    "A.det() #Determinent"
   ]
  },
  {
   "cell_type": "code",
   "execution_count": 50,
   "id": "80592bff",
   "metadata": {},
   "outputs": [
    {
     "data": {
      "text/latex": [
       "$\\displaystyle \\left[\\begin{matrix}\\frac{3}{13} & \\frac{6}{13} & \\frac{4}{13}\\\\\\frac{3}{26} & \\frac{19}{26} & \\frac{2}{13}\\\\\\frac{5}{26} & - \\frac{3}{26} & - \\frac{1}{13}\\end{matrix}\\right]$"
      ],
      "text/plain": [
       "⎡3/13  6/13   4/13 ⎤\n",
       "⎢                  ⎥\n",
       "⎢       19         ⎥\n",
       "⎢3/26   ──    2/13 ⎥\n",
       "⎢       26         ⎥\n",
       "⎢                  ⎥\n",
       "⎣5/26  -3/26  -1/13⎦"
      ]
     },
     "execution_count": 50,
     "metadata": {},
     "output_type": "execute_result"
    }
   ],
   "source": [
    "#Since determinent is not zero, so the matrix is invertible, to find the inverse of the matrix:\n",
    "A.inv()"
   ]
  },
  {
   "cell_type": "code",
   "execution_count": 10,
   "id": "3665ef34",
   "metadata": {},
   "outputs": [
    {
     "ename": "SyntaxError",
     "evalue": "invalid syntax (3919008073.py, line 1)",
     "output_type": "error",
     "traceback": [
      "\u001b[1;36m  Cell \u001b[1;32mIn[10], line 1\u001b[1;36m\u001b[0m\n\u001b[1;33m    A.inv().[0,0,0]\u001b[0m\n\u001b[1;37m            ^\u001b[0m\n\u001b[1;31mSyntaxError\u001b[0m\u001b[1;31m:\u001b[0m invalid syntax\n"
     ]
    }
   ],
   "source": [
    "A.inv().[0,0,0]"
   ]
  },
  {
   "cell_type": "code",
   "execution_count": 11,
   "id": "e70c15ed",
   "metadata": {},
   "outputs": [],
   "source": [
    "memo = {}\n",
    "\n",
    "def nth_fibonacci(n):\n",
    "    if n in memo:\n",
    "        return memo[n]\n",
    "    if n <= 2:\n",
    "        return 1\n",
    "    memo[n] = nth_fibonacci(n - 1) + nth_fibonacci(n - 2)\n",
    "    return memo"
   ]
  }
 ],
 "metadata": {
  "kernelspec": {
   "display_name": "Python 3 (ipykernel)",
   "language": "python",
   "name": "python3"
  },
  "language_info": {
   "codemirror_mode": {
    "name": "ipython",
    "version": 3
   },
   "file_extension": ".py",
   "mimetype": "text/x-python",
   "name": "python",
   "nbconvert_exporter": "python",
   "pygments_lexer": "ipython3",
   "version": "3.11.5"
  }
 },
 "nbformat": 4,
 "nbformat_minor": 5
}
