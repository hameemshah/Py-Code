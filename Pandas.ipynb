{
 "cells": [
  {
   "cell_type": "markdown",
   "id": "10015abf",
   "metadata": {},
   "source": [
    "# Getting Started with pandas"
   ]
  },
  {
   "cell_type": "markdown",
   "id": "0f54dc47",
   "metadata": {},
   "source": [
    "Pandas contains data structures and data manipulation tools designed to make data cleaning\n",
    "and analysis fast and convenient in Python. pandas is often used in tandem with\n",
    "numerical computing tools like NumPy and SciPy, analytical libraries like statsmo‐\n",
    "dels and scikit-learn, and data visualization libraries like matplotlib. pandas adopts\n",
    "significant parts of NumPy’s idiomatic style of array-based computing, especially\n",
    "array-based functions and a preference for data processing without for loops.\n",
    "While pandas adopts many coding idioms from NumPy, the biggestabout difference\n",
    "is that pandas is designed for working with tabular or heterogeneous data. NumPy, by\n",
    "contrast, is best suited for working with homogeneously typed numerical array data."
   ]
  },
  {
   "cell_type": "code",
   "execution_count": null,
   "id": "058a53ab",
   "metadata": {},
   "outputs": [],
   "source": [
    "import pandas as pd"
   ]
  },
  {
   "cell_type": "markdown",
   "id": "1ca66f69",
   "metadata": {},
   "source": [
    "## Introduction to pandas Data Structures\n"
   ]
  },
  {
   "cell_type": "markdown",
   "id": "b9692189",
   "metadata": {},
   "source": [
    "### 1.Series"
   ]
  },
  {
   "cell_type": "markdown",
   "id": "4cb496c4",
   "metadata": {},
   "source": [
    "A Series is a one-dimensional array-like object containing a sequence of values (of\n",
    "similar types to NumPy types) of the same type and an associated array of data labels,\n",
    "called its index. The simplest Series is formed from only an array of data:"
   ]
  },
  {
   "cell_type": "code",
   "execution_count": 75,
   "id": "5a088617",
   "metadata": {
    "scrolled": true
   },
   "outputs": [
    {
     "data": {
      "text/plain": [
       "0    4\n",
       "1    7\n",
       "2   -5\n",
       "3    3\n",
       "dtype: int64"
      ]
     },
     "execution_count": 75,
     "metadata": {},
     "output_type": "execute_result"
    }
   ],
   "source": [
    "obj = pd.Series([4, 7, -5, 3])\n",
    "obj"
   ]
  },
  {
   "cell_type": "code",
   "execution_count": 76,
   "id": "3c11ba48",
   "metadata": {
    "scrolled": true
   },
   "outputs": [
    {
     "data": {
      "text/plain": [
       "<PandasArray>\n",
       "[4, 7, -5, 3]\n",
       "Length: 4, dtype: int64"
      ]
     },
     "execution_count": 76,
     "metadata": {},
     "output_type": "execute_result"
    }
   ],
   "source": [
    "obj.array"
   ]
  },
  {
   "cell_type": "code",
   "execution_count": 77,
   "id": "63d57264",
   "metadata": {},
   "outputs": [
    {
     "data": {
      "text/plain": [
       "RangeIndex(start=0, stop=4, step=1)"
      ]
     },
     "execution_count": 77,
     "metadata": {},
     "output_type": "execute_result"
    }
   ],
   "source": [
    "obj.index"
   ]
  },
  {
   "cell_type": "code",
   "execution_count": 78,
   "id": "48d29994",
   "metadata": {},
   "outputs": [
    {
     "data": {
      "text/plain": [
       "d    4\n",
       "b    7\n",
       "a   -5\n",
       "c    3\n",
       "dtype: int64"
      ]
     },
     "execution_count": 78,
     "metadata": {},
     "output_type": "execute_result"
    }
   ],
   "source": [
    "obj2 = pd.Series([4, 7, -5, 3], index=[\"d\", \"b\", \"a\", \"c\"]) #Indexing using given values\n",
    "obj2"
   ]
  },
  {
   "cell_type": "code",
   "execution_count": 79,
   "id": "8d9fcf5f",
   "metadata": {},
   "outputs": [
    {
     "data": {
      "text/plain": [
       "Index(['d', 'b', 'a', 'c'], dtype='object')"
      ]
     },
     "execution_count": 79,
     "metadata": {},
     "output_type": "execute_result"
    }
   ],
   "source": [
    "obj2.index"
   ]
  },
  {
   "cell_type": "code",
   "execution_count": 80,
   "id": "e17784db",
   "metadata": {},
   "outputs": [
    {
     "data": {
      "text/plain": [
       "-5"
      ]
     },
     "execution_count": 80,
     "metadata": {},
     "output_type": "execute_result"
    }
   ],
   "source": [
    "#Compared with NumPy arrays, you can use labels in the index when selecting single values or a set of values\n",
    "obj2['a']"
   ]
  },
  {
   "cell_type": "code",
   "execution_count": 81,
   "id": "c1fa7e60",
   "metadata": {},
   "outputs": [
    {
     "data": {
      "text/plain": [
       "c    3\n",
       "a   -5\n",
       "d    4\n",
       "dtype: int64"
      ]
     },
     "execution_count": 81,
     "metadata": {},
     "output_type": "execute_result"
    }
   ],
   "source": [
    "obj2[[\"c\", \"a\", \"d\"]]\n",
    "#Here [\"c\", \"a\", \"d\"] is interpreted as a list of indices, even though it contain strings instead of integers"
   ]
  },
  {
   "cell_type": "markdown",
   "id": "68e41aca",
   "metadata": {},
   "source": [
    "Using NumPy functions or NumPy-like operations, such as filtering with a Boolean\n",
    "array, scalar multiplication, or applying math functions, will preserve the index-value\n",
    "link"
   ]
  },
  {
   "cell_type": "code",
   "execution_count": 82,
   "id": "91a6e958",
   "metadata": {},
   "outputs": [
    {
     "data": {
      "text/plain": [
       "d    4\n",
       "b    7\n",
       "c    3\n",
       "dtype: int64"
      ]
     },
     "execution_count": 82,
     "metadata": {},
     "output_type": "execute_result"
    }
   ],
   "source": [
    "obj2[obj2 > 0]"
   ]
  },
  {
   "cell_type": "code",
   "execution_count": 83,
   "id": "c773e13c",
   "metadata": {},
   "outputs": [
    {
     "data": {
      "text/plain": [
       "d     8\n",
       "b    14\n",
       "a   -10\n",
       "c     6\n",
       "dtype: int64"
      ]
     },
     "execution_count": 83,
     "metadata": {},
     "output_type": "execute_result"
    }
   ],
   "source": [
    "obj2 * 2"
   ]
  },
  {
   "cell_type": "code",
   "execution_count": 84,
   "id": "fe008ea9",
   "metadata": {},
   "outputs": [],
   "source": [
    "import numpy as np"
   ]
  },
  {
   "cell_type": "code",
   "execution_count": 88,
   "id": "8cf7f7bb",
   "metadata": {},
   "outputs": [
    {
     "data": {
      "text/plain": [
       "d      54.598150\n",
       "b    1096.633158\n",
       "a       0.006738\n",
       "c      20.085537\n",
       "dtype: float64"
      ]
     },
     "execution_count": 88,
     "metadata": {},
     "output_type": "execute_result"
    }
   ],
   "source": [
    "np.exp(obj2)"
   ]
  },
  {
   "cell_type": "code",
   "execution_count": 89,
   "id": "d614c127",
   "metadata": {},
   "outputs": [
    {
     "data": {
      "text/plain": [
       "d    1.587401\n",
       "b    1.912931\n",
       "a   -1.709976\n",
       "c    1.442250\n",
       "dtype: float64"
      ]
     },
     "execution_count": 89,
     "metadata": {},
     "output_type": "execute_result"
    }
   ],
   "source": [
    "np.cbrt(obj2)"
   ]
  },
  {
   "cell_type": "markdown",
   "id": "8186387c",
   "metadata": {},
   "source": [
    "Another way to think about a Series is as a fixed-length, ordered dictionary, as it is a\n",
    "mapping of index values to data values. It can be used in many contexts where you\n",
    "might use a dictionary"
   ]
  },
  {
   "cell_type": "code",
   "execution_count": 90,
   "id": "6090465c",
   "metadata": {},
   "outputs": [
    {
     "data": {
      "text/plain": [
       "True"
      ]
     },
     "execution_count": 90,
     "metadata": {},
     "output_type": "execute_result"
    }
   ],
   "source": [
    "\"b\" in obj2"
   ]
  },
  {
   "cell_type": "markdown",
   "id": "e703de58",
   "metadata": {},
   "source": [
    "Should you have data contained in a Python dictionary, you can create a Series from\n",
    "it by passing the dictionary"
   ]
  },
  {
   "cell_type": "code",
   "execution_count": 91,
   "id": "971a4af9",
   "metadata": {},
   "outputs": [],
   "source": [
    "sdata = {\"anantnag\":3000, \"pulwama\":2500, \"srinagar\":800, \"kulgam\":2800}"
   ]
  },
  {
   "cell_type": "code",
   "execution_count": 92,
   "id": "e9e599c1",
   "metadata": {},
   "outputs": [
    {
     "data": {
      "text/plain": [
       "{'anantnag': 3000, 'pulwama': 2500, 'srinagar': 800, 'kulgam': 2800}"
      ]
     },
     "execution_count": 92,
     "metadata": {},
     "output_type": "execute_result"
    }
   ],
   "source": [
    "sdata"
   ]
  },
  {
   "cell_type": "code",
   "execution_count": 93,
   "id": "643adb4b",
   "metadata": {},
   "outputs": [
    {
     "data": {
      "text/plain": [
       "anantnag    3000\n",
       "pulwama     2500\n",
       "srinagar     800\n",
       "kulgam      2800\n",
       "dtype: int64"
      ]
     },
     "execution_count": 93,
     "metadata": {},
     "output_type": "execute_result"
    }
   ],
   "source": [
    "obj3 = pd.Series(sdata)\n",
    "obj3"
   ]
  },
  {
   "cell_type": "code",
   "execution_count": 94,
   "id": "d350556f",
   "metadata": {},
   "outputs": [
    {
     "data": {
      "text/plain": [
       "{'anantnag': 3000, 'pulwama': 2500, 'srinagar': 800, 'kulgam': 2800}"
      ]
     },
     "execution_count": 94,
     "metadata": {},
     "output_type": "execute_result"
    }
   ],
   "source": [
    "sdata = obj3.to_dict()\n",
    "sdata"
   ]
  },
  {
   "cell_type": "code",
   "execution_count": 95,
   "id": "96225618",
   "metadata": {},
   "outputs": [
    {
     "data": {
      "text/plain": [
       "Index(['anantnag', 'pulwama', 'srinagar', 'kulgam'], dtype='object')"
      ]
     },
     "execution_count": 95,
     "metadata": {},
     "output_type": "execute_result"
    }
   ],
   "source": [
    "obj3.index"
   ]
  },
  {
   "cell_type": "code",
   "execution_count": 103,
   "id": "b303a8aa",
   "metadata": {},
   "outputs": [],
   "source": [
    "districts = ['anantnag', 'pulwama', 'srinagar', 'kulgam', 'shopian']"
   ]
  },
  {
   "cell_type": "code",
   "execution_count": 104,
   "id": "11f764ea",
   "metadata": {},
   "outputs": [
    {
     "data": {
      "text/plain": [
       "anantnag    3000.0\n",
       "pulwama     2500.0\n",
       "srinagar     800.0\n",
       "kulgam      2800.0\n",
       "shopian        NaN\n",
       "dtype: float64"
      ]
     },
     "execution_count": 104,
     "metadata": {},
     "output_type": "execute_result"
    }
   ],
   "source": [
    "obj4 = pd.Series(sdata, index=districts)\n",
    "obj4"
   ]
  },
  {
   "cell_type": "markdown",
   "id": "cb3376fd",
   "metadata": {},
   "source": [
    "### 2.DataFrame"
   ]
  },
  {
   "cell_type": "markdown",
   "id": "94eeaf33",
   "metadata": {},
   "source": [
    "A DataFrame represents a rectangular table of data and contains an ordered, named\n",
    "collection of columns, each of which can be a different value type (numeric, string,\n",
    "Boolean, etc.). The DataFrame has both a row and column index; it can be thought of\n",
    "as a dictionary of Series all sharing the same i"
   ]
  },
  {
   "cell_type": "markdown",
   "id": "6cae7c75",
   "metadata": {},
   "source": [
    "There are many ways to construct a DataFrame, though one of the most common is\n",
    "from a dictionary of equal-length lists or NumPy arr"
   ]
  },
  {
   "cell_type": "code",
   "execution_count": 111,
   "id": "ae7b0bad",
   "metadata": {},
   "outputs": [],
   "source": [
    "import pandas as pd\n",
    "data = {\"district\":[\"pulwama\",\"pulwama\",\"pulwama\",\"shopian\",\"shopian\",\"shopian\"],\n",
    "        \"years\":[2001, 2011, 2021, 2001, 2011, 2021],\n",
    "       \"pop\":[2.0, 1.5,1.8,0.0,0.8,1.0]}"
   ]
  },
  {
   "cell_type": "code",
   "execution_count": 110,
   "id": "b766b9ae",
   "metadata": {},
   "outputs": [
    {
     "data": {
      "text/html": [
       "<div>\n",
       "<style scoped>\n",
       "    .dataframe tbody tr th:only-of-type {\n",
       "        vertical-align: middle;\n",
       "    }\n",
       "\n",
       "    .dataframe tbody tr th {\n",
       "        vertical-align: top;\n",
       "    }\n",
       "\n",
       "    .dataframe thead th {\n",
       "        text-align: right;\n",
       "    }\n",
       "</style>\n",
       "<table border=\"1\" class=\"dataframe\">\n",
       "  <thead>\n",
       "    <tr style=\"text-align: right;\">\n",
       "      <th></th>\n",
       "      <th>district</th>\n",
       "      <th>years</th>\n",
       "      <th>pop</th>\n",
       "    </tr>\n",
       "  </thead>\n",
       "  <tbody>\n",
       "    <tr>\n",
       "      <th>0</th>\n",
       "      <td>pulwama</td>\n",
       "      <td>2001</td>\n",
       "      <td>2.0</td>\n",
       "    </tr>\n",
       "    <tr>\n",
       "      <th>1</th>\n",
       "      <td>pulwama</td>\n",
       "      <td>2011</td>\n",
       "      <td>1.5</td>\n",
       "    </tr>\n",
       "    <tr>\n",
       "      <th>2</th>\n",
       "      <td>pulwama</td>\n",
       "      <td>2021</td>\n",
       "      <td>1.8</td>\n",
       "    </tr>\n",
       "    <tr>\n",
       "      <th>3</th>\n",
       "      <td>shopian</td>\n",
       "      <td>2001</td>\n",
       "      <td>0.0</td>\n",
       "    </tr>\n",
       "    <tr>\n",
       "      <th>4</th>\n",
       "      <td>shopian</td>\n",
       "      <td>2011</td>\n",
       "      <td>0.8</td>\n",
       "    </tr>\n",
       "    <tr>\n",
       "      <th>5</th>\n",
       "      <td>shopian</td>\n",
       "      <td>2021</td>\n",
       "      <td>1.0</td>\n",
       "    </tr>\n",
       "  </tbody>\n",
       "</table>\n",
       "</div>"
      ],
      "text/plain": [
       "  district  years  pop\n",
       "0  pulwama   2001  2.0\n",
       "1  pulwama   2011  1.5\n",
       "2  pulwama   2021  1.8\n",
       "3  shopian   2001  0.0\n",
       "4  shopian   2011  0.8\n",
       "5  shopian   2021  1.0"
      ]
     },
     "execution_count": 110,
     "metadata": {},
     "output_type": "execute_result"
    }
   ],
   "source": [
    "frame = pd.DataFrame(data)\n",
    "frame"
   ]
  },
  {
   "cell_type": "code",
   "execution_count": 112,
   "id": "eca48157",
   "metadata": {},
   "outputs": [
    {
     "data": {
      "text/html": [
       "<div>\n",
       "<style scoped>\n",
       "    .dataframe tbody tr th:only-of-type {\n",
       "        vertical-align: middle;\n",
       "    }\n",
       "\n",
       "    .dataframe tbody tr th {\n",
       "        vertical-align: top;\n",
       "    }\n",
       "\n",
       "    .dataframe thead th {\n",
       "        text-align: right;\n",
       "    }\n",
       "</style>\n",
       "<table border=\"1\" class=\"dataframe\">\n",
       "  <thead>\n",
       "    <tr style=\"text-align: right;\">\n",
       "      <th></th>\n",
       "      <th>district</th>\n",
       "      <th>years</th>\n",
       "      <th>pop</th>\n",
       "    </tr>\n",
       "  </thead>\n",
       "  <tbody>\n",
       "    <tr>\n",
       "      <th>0</th>\n",
       "      <td>pulwama</td>\n",
       "      <td>2001</td>\n",
       "      <td>2.0</td>\n",
       "    </tr>\n",
       "    <tr>\n",
       "      <th>1</th>\n",
       "      <td>pulwama</td>\n",
       "      <td>2011</td>\n",
       "      <td>1.5</td>\n",
       "    </tr>\n",
       "    <tr>\n",
       "      <th>2</th>\n",
       "      <td>pulwama</td>\n",
       "      <td>2021</td>\n",
       "      <td>1.8</td>\n",
       "    </tr>\n",
       "    <tr>\n",
       "      <th>3</th>\n",
       "      <td>shopian</td>\n",
       "      <td>2001</td>\n",
       "      <td>0.0</td>\n",
       "    </tr>\n",
       "    <tr>\n",
       "      <th>4</th>\n",
       "      <td>shopian</td>\n",
       "      <td>2011</td>\n",
       "      <td>0.8</td>\n",
       "    </tr>\n",
       "  </tbody>\n",
       "</table>\n",
       "</div>"
      ],
      "text/plain": [
       "  district  years  pop\n",
       "0  pulwama   2001  2.0\n",
       "1  pulwama   2011  1.5\n",
       "2  pulwama   2021  1.8\n",
       "3  shopian   2001  0.0\n",
       "4  shopian   2011  0.8"
      ]
     },
     "execution_count": 112,
     "metadata": {},
     "output_type": "execute_result"
    }
   ],
   "source": [
    "#For large DataFrames, the head method selects only the first five rows\n",
    "frame.head()"
   ]
  },
  {
   "cell_type": "code",
   "execution_count": 113,
   "id": "a5e9eaed",
   "metadata": {},
   "outputs": [
    {
     "data": {
      "text/html": [
       "<div>\n",
       "<style scoped>\n",
       "    .dataframe tbody tr th:only-of-type {\n",
       "        vertical-align: middle;\n",
       "    }\n",
       "\n",
       "    .dataframe tbody tr th {\n",
       "        vertical-align: top;\n",
       "    }\n",
       "\n",
       "    .dataframe thead th {\n",
       "        text-align: right;\n",
       "    }\n",
       "</style>\n",
       "<table border=\"1\" class=\"dataframe\">\n",
       "  <thead>\n",
       "    <tr style=\"text-align: right;\">\n",
       "      <th></th>\n",
       "      <th>district</th>\n",
       "      <th>years</th>\n",
       "      <th>pop</th>\n",
       "    </tr>\n",
       "  </thead>\n",
       "  <tbody>\n",
       "    <tr>\n",
       "      <th>1</th>\n",
       "      <td>pulwama</td>\n",
       "      <td>2011</td>\n",
       "      <td>1.5</td>\n",
       "    </tr>\n",
       "    <tr>\n",
       "      <th>2</th>\n",
       "      <td>pulwama</td>\n",
       "      <td>2021</td>\n",
       "      <td>1.8</td>\n",
       "    </tr>\n",
       "    <tr>\n",
       "      <th>3</th>\n",
       "      <td>shopian</td>\n",
       "      <td>2001</td>\n",
       "      <td>0.0</td>\n",
       "    </tr>\n",
       "    <tr>\n",
       "      <th>4</th>\n",
       "      <td>shopian</td>\n",
       "      <td>2011</td>\n",
       "      <td>0.8</td>\n",
       "    </tr>\n",
       "    <tr>\n",
       "      <th>5</th>\n",
       "      <td>shopian</td>\n",
       "      <td>2021</td>\n",
       "      <td>1.0</td>\n",
       "    </tr>\n",
       "  </tbody>\n",
       "</table>\n",
       "</div>"
      ],
      "text/plain": [
       "  district  years  pop\n",
       "1  pulwama   2011  1.5\n",
       "2  pulwama   2021  1.8\n",
       "3  shopian   2001  0.0\n",
       "4  shopian   2011  0.8\n",
       "5  shopian   2021  1.0"
      ]
     },
     "execution_count": 113,
     "metadata": {},
     "output_type": "execute_result"
    }
   ],
   "source": [
    "#Similarly, tail returns the last five rows\n",
    "frame.tail()"
   ]
  },
  {
   "cell_type": "code",
   "execution_count": null,
   "id": "5e569121",
   "metadata": {},
   "outputs": [],
   "source": [
    "#specify a sequence of columns, the DataFrame’s columns will be arranged in that order"
   ]
  },
  {
   "cell_type": "code",
   "execution_count": 136,
   "id": "c419c85d",
   "metadata": {},
   "outputs": [
    {
     "data": {
      "text/html": [
       "<div>\n",
       "<style scoped>\n",
       "    .dataframe tbody tr th:only-of-type {\n",
       "        vertical-align: middle;\n",
       "    }\n",
       "\n",
       "    .dataframe tbody tr th {\n",
       "        vertical-align: top;\n",
       "    }\n",
       "\n",
       "    .dataframe thead th {\n",
       "        text-align: right;\n",
       "    }\n",
       "</style>\n",
       "<table border=\"1\" class=\"dataframe\">\n",
       "  <thead>\n",
       "    <tr style=\"text-align: right;\">\n",
       "      <th></th>\n",
       "      <th>years</th>\n",
       "      <th>district</th>\n",
       "      <th>pop</th>\n",
       "    </tr>\n",
       "  </thead>\n",
       "  <tbody>\n",
       "    <tr>\n",
       "      <th>a</th>\n",
       "      <td>2001</td>\n",
       "      <td>pulwama</td>\n",
       "      <td>2.0</td>\n",
       "    </tr>\n",
       "    <tr>\n",
       "      <th>b</th>\n",
       "      <td>2011</td>\n",
       "      <td>pulwama</td>\n",
       "      <td>1.5</td>\n",
       "    </tr>\n",
       "    <tr>\n",
       "      <th>c</th>\n",
       "      <td>2021</td>\n",
       "      <td>pulwama</td>\n",
       "      <td>1.8</td>\n",
       "    </tr>\n",
       "    <tr>\n",
       "      <th>d</th>\n",
       "      <td>2001</td>\n",
       "      <td>shopian</td>\n",
       "      <td>0.0</td>\n",
       "    </tr>\n",
       "    <tr>\n",
       "      <th>e</th>\n",
       "      <td>2011</td>\n",
       "      <td>shopian</td>\n",
       "      <td>0.8</td>\n",
       "    </tr>\n",
       "    <tr>\n",
       "      <th>f</th>\n",
       "      <td>2021</td>\n",
       "      <td>shopian</td>\n",
       "      <td>1.0</td>\n",
       "    </tr>\n",
       "  </tbody>\n",
       "</table>\n",
       "</div>"
      ],
      "text/plain": [
       "   years district  pop\n",
       "a   2001  pulwama  2.0\n",
       "b   2011  pulwama  1.5\n",
       "c   2021  pulwama  1.8\n",
       "d   2001  shopian  0.0\n",
       "e   2011  shopian  0.8\n",
       "f   2021  shopian  1.0"
      ]
     },
     "execution_count": 136,
     "metadata": {},
     "output_type": "execute_result"
    }
   ],
   "source": [
    "frame2 = pd.DataFrame(data, columns=[\"years\", \"district\", \"pop\"], index=('a','b','c','d','e','f'))\n",
    "frame2"
   ]
  },
  {
   "cell_type": "code",
   "execution_count": 115,
   "id": "bf0b7afe",
   "metadata": {},
   "outputs": [
    {
     "data": {
      "text/plain": [
       "Index(['years', 'district', 'pop'], dtype='object')"
      ]
     },
     "execution_count": 115,
     "metadata": {},
     "output_type": "execute_result"
    }
   ],
   "source": [
    "frame2.columns"
   ]
  },
  {
   "cell_type": "markdown",
   "id": "d0ab6e04",
   "metadata": {},
   "source": [
    "A column in a DataFrame can be retrieved as a Series either by dictionary-like\n",
    "notation or by using the dot attribute notati"
   ]
  },
  {
   "cell_type": "code",
   "execution_count": 116,
   "id": "fd594aa2",
   "metadata": {},
   "outputs": [
    {
     "data": {
      "text/plain": [
       "0    2.0\n",
       "1    1.5\n",
       "2    1.8\n",
       "3    0.0\n",
       "4    0.8\n",
       "5    1.0\n",
       "Name: pop, dtype: float64"
      ]
     },
     "execution_count": 116,
     "metadata": {},
     "output_type": "execute_result"
    }
   ],
   "source": [
    "frame2[\"pop\"]"
   ]
  },
  {
   "cell_type": "code",
   "execution_count": 117,
   "id": "1b348b52",
   "metadata": {},
   "outputs": [
    {
     "data": {
      "text/plain": [
       "0    2001\n",
       "1    2011\n",
       "2    2021\n",
       "3    2001\n",
       "4    2011\n",
       "5    2021\n",
       "Name: years, dtype: int64"
      ]
     },
     "execution_count": 117,
     "metadata": {},
     "output_type": "execute_result"
    }
   ],
   "source": [
    "frame2.years"
   ]
  },
  {
   "cell_type": "markdown",
   "id": "ca1ff682",
   "metadata": {},
   "source": [
    "Rows can also be retrieved by position or name with the special iloc and loc\n",
    "attributes"
   ]
  },
  {
   "cell_type": "code",
   "execution_count": 138,
   "id": "b127c242",
   "metadata": {},
   "outputs": [
    {
     "data": {
      "text/plain": [
       "years          2001\n",
       "district    pulwama\n",
       "pop             2.0\n",
       "Name: a, dtype: object"
      ]
     },
     "execution_count": 138,
     "metadata": {},
     "output_type": "execute_result"
    }
   ],
   "source": [
    "frame2.loc['a']"
   ]
  },
  {
   "cell_type": "code",
   "execution_count": 139,
   "id": "95aa4038",
   "metadata": {},
   "outputs": [
    {
     "data": {
      "text/plain": [
       "years          2011\n",
       "district    pulwama\n",
       "pop             1.5\n",
       "Name: b, dtype: object"
      ]
     },
     "execution_count": 139,
     "metadata": {},
     "output_type": "execute_result"
    }
   ],
   "source": [
    "frame2.iloc[1]"
   ]
  },
  {
   "cell_type": "markdown",
   "id": "5d6c718f",
   "metadata": {},
   "source": [
    "Columns can be modified by assignment. For example, the empty debt column could\n",
    "be assigned a scalar value or an array of va"
   ]
  },
  {
   "cell_type": "code",
   "execution_count": 140,
   "id": "1e7c53dd",
   "metadata": {},
   "outputs": [
    {
     "data": {
      "text/html": [
       "<div>\n",
       "<style scoped>\n",
       "    .dataframe tbody tr th:only-of-type {\n",
       "        vertical-align: middle;\n",
       "    }\n",
       "\n",
       "    .dataframe tbody tr th {\n",
       "        vertical-align: top;\n",
       "    }\n",
       "\n",
       "    .dataframe thead th {\n",
       "        text-align: right;\n",
       "    }\n",
       "</style>\n",
       "<table border=\"1\" class=\"dataframe\">\n",
       "  <thead>\n",
       "    <tr style=\"text-align: right;\">\n",
       "      <th></th>\n",
       "      <th>years</th>\n",
       "      <th>district</th>\n",
       "      <th>pop</th>\n",
       "    </tr>\n",
       "  </thead>\n",
       "  <tbody>\n",
       "    <tr>\n",
       "      <th>a</th>\n",
       "      <td>2001</td>\n",
       "      <td>pulwama</td>\n",
       "      <td>2.0</td>\n",
       "    </tr>\n",
       "    <tr>\n",
       "      <th>b</th>\n",
       "      <td>2011</td>\n",
       "      <td>pulwama</td>\n",
       "      <td>1.5</td>\n",
       "    </tr>\n",
       "    <tr>\n",
       "      <th>c</th>\n",
       "      <td>2021</td>\n",
       "      <td>pulwama</td>\n",
       "      <td>1.8</td>\n",
       "    </tr>\n",
       "    <tr>\n",
       "      <th>d</th>\n",
       "      <td>2001</td>\n",
       "      <td>shopian</td>\n",
       "      <td>0.0</td>\n",
       "    </tr>\n",
       "    <tr>\n",
       "      <th>e</th>\n",
       "      <td>2011</td>\n",
       "      <td>shopian</td>\n",
       "      <td>0.8</td>\n",
       "    </tr>\n",
       "    <tr>\n",
       "      <th>f</th>\n",
       "      <td>2021</td>\n",
       "      <td>shopian</td>\n",
       "      <td>1.0</td>\n",
       "    </tr>\n",
       "  </tbody>\n",
       "</table>\n",
       "</div>"
      ],
      "text/plain": [
       "   years district  pop\n",
       "a   2001  pulwama  2.0\n",
       "b   2011  pulwama  1.5\n",
       "c   2021  pulwama  1.8\n",
       "d   2001  shopian  0.0\n",
       "e   2011  shopian  0.8\n",
       "f   2021  shopian  1.0"
      ]
     },
     "execution_count": 140,
     "metadata": {},
     "output_type": "execute_result"
    }
   ],
   "source": [
    "frame2"
   ]
  },
  {
   "cell_type": "code",
   "execution_count": 141,
   "id": "b6871b29",
   "metadata": {},
   "outputs": [],
   "source": [
    "frame2[\"debt\"] = 0"
   ]
  },
  {
   "cell_type": "code",
   "execution_count": 142,
   "id": "2dfb6ba4",
   "metadata": {},
   "outputs": [
    {
     "data": {
      "text/html": [
       "<div>\n",
       "<style scoped>\n",
       "    .dataframe tbody tr th:only-of-type {\n",
       "        vertical-align: middle;\n",
       "    }\n",
       "\n",
       "    .dataframe tbody tr th {\n",
       "        vertical-align: top;\n",
       "    }\n",
       "\n",
       "    .dataframe thead th {\n",
       "        text-align: right;\n",
       "    }\n",
       "</style>\n",
       "<table border=\"1\" class=\"dataframe\">\n",
       "  <thead>\n",
       "    <tr style=\"text-align: right;\">\n",
       "      <th></th>\n",
       "      <th>years</th>\n",
       "      <th>district</th>\n",
       "      <th>pop</th>\n",
       "      <th>debt</th>\n",
       "    </tr>\n",
       "  </thead>\n",
       "  <tbody>\n",
       "    <tr>\n",
       "      <th>a</th>\n",
       "      <td>2001</td>\n",
       "      <td>pulwama</td>\n",
       "      <td>2.0</td>\n",
       "      <td>0</td>\n",
       "    </tr>\n",
       "    <tr>\n",
       "      <th>b</th>\n",
       "      <td>2011</td>\n",
       "      <td>pulwama</td>\n",
       "      <td>1.5</td>\n",
       "      <td>0</td>\n",
       "    </tr>\n",
       "    <tr>\n",
       "      <th>c</th>\n",
       "      <td>2021</td>\n",
       "      <td>pulwama</td>\n",
       "      <td>1.8</td>\n",
       "      <td>0</td>\n",
       "    </tr>\n",
       "    <tr>\n",
       "      <th>d</th>\n",
       "      <td>2001</td>\n",
       "      <td>shopian</td>\n",
       "      <td>0.0</td>\n",
       "      <td>0</td>\n",
       "    </tr>\n",
       "    <tr>\n",
       "      <th>e</th>\n",
       "      <td>2011</td>\n",
       "      <td>shopian</td>\n",
       "      <td>0.8</td>\n",
       "      <td>0</td>\n",
       "    </tr>\n",
       "    <tr>\n",
       "      <th>f</th>\n",
       "      <td>2021</td>\n",
       "      <td>shopian</td>\n",
       "      <td>1.0</td>\n",
       "      <td>0</td>\n",
       "    </tr>\n",
       "  </tbody>\n",
       "</table>\n",
       "</div>"
      ],
      "text/plain": [
       "   years district  pop  debt\n",
       "a   2001  pulwama  2.0     0\n",
       "b   2011  pulwama  1.5     0\n",
       "c   2021  pulwama  1.8     0\n",
       "d   2001  shopian  0.0     0\n",
       "e   2011  shopian  0.8     0\n",
       "f   2021  shopian  1.0     0"
      ]
     },
     "execution_count": 142,
     "metadata": {},
     "output_type": "execute_result"
    }
   ],
   "source": [
    "frame2"
   ]
  },
  {
   "cell_type": "code",
   "execution_count": 143,
   "id": "f6971a1a",
   "metadata": {},
   "outputs": [],
   "source": [
    "frame2[\"debt\"] = np.arange(6,)"
   ]
  },
  {
   "cell_type": "code",
   "execution_count": 144,
   "id": "8c6661b2",
   "metadata": {},
   "outputs": [
    {
     "data": {
      "text/html": [
       "<div>\n",
       "<style scoped>\n",
       "    .dataframe tbody tr th:only-of-type {\n",
       "        vertical-align: middle;\n",
       "    }\n",
       "\n",
       "    .dataframe tbody tr th {\n",
       "        vertical-align: top;\n",
       "    }\n",
       "\n",
       "    .dataframe thead th {\n",
       "        text-align: right;\n",
       "    }\n",
       "</style>\n",
       "<table border=\"1\" class=\"dataframe\">\n",
       "  <thead>\n",
       "    <tr style=\"text-align: right;\">\n",
       "      <th></th>\n",
       "      <th>years</th>\n",
       "      <th>district</th>\n",
       "      <th>pop</th>\n",
       "      <th>debt</th>\n",
       "    </tr>\n",
       "  </thead>\n",
       "  <tbody>\n",
       "    <tr>\n",
       "      <th>a</th>\n",
       "      <td>2001</td>\n",
       "      <td>pulwama</td>\n",
       "      <td>2.0</td>\n",
       "      <td>0</td>\n",
       "    </tr>\n",
       "    <tr>\n",
       "      <th>b</th>\n",
       "      <td>2011</td>\n",
       "      <td>pulwama</td>\n",
       "      <td>1.5</td>\n",
       "      <td>1</td>\n",
       "    </tr>\n",
       "    <tr>\n",
       "      <th>c</th>\n",
       "      <td>2021</td>\n",
       "      <td>pulwama</td>\n",
       "      <td>1.8</td>\n",
       "      <td>2</td>\n",
       "    </tr>\n",
       "    <tr>\n",
       "      <th>d</th>\n",
       "      <td>2001</td>\n",
       "      <td>shopian</td>\n",
       "      <td>0.0</td>\n",
       "      <td>3</td>\n",
       "    </tr>\n",
       "    <tr>\n",
       "      <th>e</th>\n",
       "      <td>2011</td>\n",
       "      <td>shopian</td>\n",
       "      <td>0.8</td>\n",
       "      <td>4</td>\n",
       "    </tr>\n",
       "    <tr>\n",
       "      <th>f</th>\n",
       "      <td>2021</td>\n",
       "      <td>shopian</td>\n",
       "      <td>1.0</td>\n",
       "      <td>5</td>\n",
       "    </tr>\n",
       "  </tbody>\n",
       "</table>\n",
       "</div>"
      ],
      "text/plain": [
       "   years district  pop  debt\n",
       "a   2001  pulwama  2.0     0\n",
       "b   2011  pulwama  1.5     1\n",
       "c   2021  pulwama  1.8     2\n",
       "d   2001  shopian  0.0     3\n",
       "e   2011  shopian  0.8     4\n",
       "f   2021  shopian  1.0     5"
      ]
     },
     "execution_count": 144,
     "metadata": {},
     "output_type": "execute_result"
    }
   ],
   "source": [
    "frame2"
   ]
  },
  {
   "cell_type": "markdown",
   "id": "cc28ae4d",
   "metadata": {},
   "source": [
    "### Index Objects "
   ]
  },
  {
   "cell_type": "markdown",
   "id": "9b4315cc",
   "metadata": {},
   "source": [
    "pandas’s Index objects are responsible for holding the axis labels (including a Data‐\n",
    "Frame’s column names) and other metadata (like the axis name or names). Any array\n",
    "or other sequence of labels you use when constructing a Series or DataFrame is\n",
    "internally converted to an Ind"
   ]
  },
  {
   "cell_type": "code",
   "execution_count": null,
   "id": "1febc73b",
   "metadata": {},
   "outputs": [],
   "source": [
    "obj = pd.Series(np.arange(3), index=[\"a\",\"b\",\"c\"])\n",
    "obj"
   ]
  },
  {
   "cell_type": "code",
   "execution_count": null,
   "id": "ce313d24",
   "metadata": {},
   "outputs": [],
   "source": [
    "obj.index"
   ]
  },
  {
   "cell_type": "code",
   "execution_count": null,
   "id": "ed564851",
   "metadata": {},
   "outputs": [],
   "source": [
    "obj.index[1:]"
   ]
  },
  {
   "cell_type": "code",
   "execution_count": null,
   "id": "7779cc73",
   "metadata": {},
   "outputs": [],
   "source": [
    "obj.index[1] = \"h\" #immutable so produces error"
   ]
  },
  {
   "cell_type": "code",
   "execution_count": null,
   "id": "b5ddbd17",
   "metadata": {},
   "outputs": [],
   "source": [
    "#immutibility makes it faster to transfer its contents\n",
    "labels = obj.index"
   ]
  },
  {
   "cell_type": "code",
   "execution_count": null,
   "id": "e0d228ad",
   "metadata": {},
   "outputs": [],
   "source": [
    "labels"
   ]
  },
  {
   "cell_type": "code",
   "execution_count": null,
   "id": "27a816ea",
   "metadata": {},
   "outputs": [],
   "source": [
    "lables[0] = 'h'"
   ]
  },
  {
   "cell_type": "code",
   "execution_count": null,
   "id": "a17bcf35",
   "metadata": {},
   "outputs": [],
   "source": [
    "frame2.columns"
   ]
  },
  {
   "cell_type": "code",
   "execution_count": null,
   "id": "4c5bafcf",
   "metadata": {},
   "outputs": [],
   "source": [
    "'pop' in frame2.columns"
   ]
  },
  {
   "cell_type": "code",
   "execution_count": null,
   "id": "48e38807",
   "metadata": {},
   "outputs": [],
   "source": [
    "1 in frame2.index"
   ]
  },
  {
   "cell_type": "markdown",
   "id": "a9849ed8",
   "metadata": {},
   "source": [
    "## Reindexing "
   ]
  },
  {
   "cell_type": "code",
   "execution_count": null,
   "id": "ea4a8d31",
   "metadata": {},
   "outputs": [],
   "source": [
    "obj = pd.Series([1.1,2.5,1.8,3.0], index=[\"a\",\"c\",\"d\",\"e\"])\n",
    "obj"
   ]
  },
  {
   "cell_type": "code",
   "execution_count": null,
   "id": "640338b8",
   "metadata": {},
   "outputs": [],
   "source": [
    "obj2 = obj.reindex([\"a\",\"b\",\"c\",\"d\",\"e\",\"f\"])\n",
    "obj"
   ]
  },
  {
   "cell_type": "code",
   "execution_count": null,
   "id": "3ca97a73",
   "metadata": {},
   "outputs": [],
   "source": [
    "\"\"\"Calling reindex on this Series rearranges the data according to the new index,\n",
    "introducing missing values if any index values were not already pr\"\"\"\n",
    "obj2"
   ]
  },
  {
   "cell_type": "code",
   "execution_count": null,
   "id": "e0989605",
   "metadata": {},
   "outputs": [],
   "source": [
    "\"\"\"For ordered data like time series, you may want to do some interpolation or filling of\n",
    "values when reindexing. The method option allows us to do this, using a method such\n",
    "as ffill, which forward-fills the value\"\"\"\n",
    "obj3 = pd.Series([\"red\",\"yellow\",\"green\",\"blue\"], index=[0,2,4,6])\n",
    "obj3"
   ]
  },
  {
   "cell_type": "code",
   "execution_count": null,
   "id": "20010f37",
   "metadata": {},
   "outputs": [],
   "source": [
    "obj3.reindex(np.arange(10), method=\"ffill\")\n",
    "obj3"
   ]
  },
  {
   "cell_type": "markdown",
   "id": "e650d2b3",
   "metadata": {},
   "source": [
    "### Dropping Entries from an Axis "
   ]
  },
  {
   "cell_type": "markdown",
   "id": "869a0bb7",
   "metadata": {},
   "source": [
    "Dropping one or more entries from an axis is simple if you already have an index\n",
    "array or list without those entries, since you can use the reindex method or .loc-\n",
    "based indexing. As that can require a bit of munging and set logic, the drop method\n",
    "will return a new object with the indicated value or values deleted from a"
   ]
  },
  {
   "cell_type": "code",
   "execution_count": null,
   "id": "b561dd60",
   "metadata": {},
   "outputs": [],
   "source": [
    "import numpy as np\n",
    "import pandas as pd\n",
    "obj = pd.Series(np.arange(5.), index=[\"a\", \"b\", \"c\", \"d\", \"e\"])\n",
    "obj"
   ]
  },
  {
   "cell_type": "code",
   "execution_count": null,
   "id": "bdb335c1",
   "metadata": {},
   "outputs": [],
   "source": [
    "new_obj = obj.drop(\"c\")\n",
    "new_obj"
   ]
  },
  {
   "cell_type": "code",
   "execution_count": null,
   "id": "ac6e991f",
   "metadata": {},
   "outputs": [],
   "source": [
    "obj.drop([\"d\", \"c\"])"
   ]
  },
  {
   "cell_type": "markdown",
   "id": "4a1b2539",
   "metadata": {},
   "source": [
    "With DataFrame, index values can be deleted from either axis. To illustrate this, we\n",
    "first create an example DataFra"
   ]
  },
  {
   "cell_type": "code",
   "execution_count": null,
   "id": "b2ae69fe",
   "metadata": {},
   "outputs": [],
   "source": [
    "data = pd.DataFrame(np.arange(16).reshape(4,4), index=[\"anantnag\",\"pulwama\",\"kulgam\",\"shopian\"],\n",
    "                    columns=[\"one\",\"two\", \"three\", \"four\"])"
   ]
  },
  {
   "cell_type": "code",
   "execution_count": null,
   "id": "addbc882",
   "metadata": {},
   "outputs": [],
   "source": [
    "data"
   ]
  },
  {
   "cell_type": "code",
   "execution_count": null,
   "id": "e49b4da1",
   "metadata": {
    "scrolled": true
   },
   "outputs": [],
   "source": [
    "data.iloc[0]"
   ]
  },
  {
   "cell_type": "code",
   "execution_count": null,
   "id": "b50a9706",
   "metadata": {},
   "outputs": [],
   "source": [
    "data[\"one\"]"
   ]
  },
  {
   "cell_type": "code",
   "execution_count": null,
   "id": "5a86fde8",
   "metadata": {},
   "outputs": [],
   "source": [
    "data.drop(index=[\"kulgam\",\"shopian\"])"
   ]
  },
  {
   "cell_type": "code",
   "execution_count": null,
   "id": "90dce848",
   "metadata": {},
   "outputs": [],
   "source": [
    "#To drop labels from the columns, instead use the columns keyword\n",
    "data.drop(columns=[\"one\"])"
   ]
  },
  {
   "cell_type": "code",
   "execution_count": null,
   "id": "94715c5d",
   "metadata": {},
   "outputs": [],
   "source": [
    "\"\"\"you can also drop values from the columns by passing axis=1 (which is like NumPy)\n",
    "or axis=\"columns\":\"\"\"\n",
    "data.drop(\"two\", axis=1)"
   ]
  },
  {
   "cell_type": "code",
   "execution_count": null,
   "id": "4b5d4a73",
   "metadata": {},
   "outputs": [],
   "source": [
    "data.drop([\"two\", \"four\"], axis=\"columns\")"
   ]
  },
  {
   "cell_type": "markdown",
   "id": "c8771d94",
   "metadata": {},
   "source": [
    "## Indexing, Selection, and Filtering "
   ]
  },
  {
   "cell_type": "markdown",
   "id": "855dbe6e",
   "metadata": {},
   "source": [
    "Series indexing (obj[...]) works analogously to NumPy array indexing, except you\n",
    "can use the Series’s index values instead of only integers. Here are some examples of\n",
    "this"
   ]
  },
  {
   "cell_type": "code",
   "execution_count": null,
   "id": "f4263bdf",
   "metadata": {},
   "outputs": [],
   "source": [
    "obj = pd.Series(np.arange(4.), index=[\"a\", \"b\", \"c\", \"d\"])"
   ]
  },
  {
   "cell_type": "code",
   "execution_count": null,
   "id": "d631e1eb",
   "metadata": {},
   "outputs": [],
   "source": [
    "obj"
   ]
  },
  {
   "cell_type": "code",
   "execution_count": null,
   "id": "9b54e4e8",
   "metadata": {},
   "outputs": [],
   "source": [
    "obj['a']"
   ]
  },
  {
   "cell_type": "code",
   "execution_count": null,
   "id": "f0466467",
   "metadata": {},
   "outputs": [],
   "source": [
    "obj[2:3]"
   ]
  },
  {
   "cell_type": "code",
   "execution_count": null,
   "id": "c4ab4e7f",
   "metadata": {},
   "outputs": [],
   "source": [
    "obj[[\"b\", \"a\", \"d\"]]"
   ]
  },
  {
   "cell_type": "markdown",
   "id": "68ff90d9",
   "metadata": {},
   "source": [
    "While you can select data by label this way, the preferred way to select index values is\n",
    "with the special loc operator"
   ]
  },
  {
   "cell_type": "markdown",
   "id": "30d892d2",
   "metadata": {},
   "source": [
    "# Selection on DataFrame with loc and iloc"
   ]
  },
  {
   "cell_type": "markdown",
   "id": "cc5eee3f",
   "metadata": {},
   "source": [
    "Like Series, DataFrame has special attributes loc and iloc for label-based and\n",
    "integer-based indexing, respectively. Since DataFrame is two-dimensional, you can\n",
    "select a subset of the rows and columns with NumPy-like notation using either axis\n",
    "labels (loc) or integers (iloc)."
   ]
  },
  {
   "cell_type": "code",
   "execution_count": null,
   "id": "2cb445be",
   "metadata": {},
   "outputs": [],
   "source": [
    "obj.loc[[\"b\", \"a\", \"d\"]]"
   ]
  },
  {
   "cell_type": "markdown",
   "id": "2fadeed0",
   "metadata": {},
   "source": [
    "You can combine both row and column selection in loc by separating the selections\n",
    "with a comm"
   ]
  },
  {
   "cell_type": "code",
   "execution_count": null,
   "id": "6f522f21",
   "metadata": {},
   "outputs": [],
   "source": []
  },
  {
   "cell_type": "markdown",
   "id": "3bfcb75c",
   "metadata": {},
   "source": [
    "## Arithmetic and Data Alignment"
   ]
  },
  {
   "cell_type": "code",
   "execution_count": null,
   "id": "71c62cf7",
   "metadata": {},
   "outputs": [],
   "source": [
    "import numpy as np\n",
    "import pandas as pd\n",
    "s1 = pd.Series([1,2,3,4,5], index=[\"a\",\"b\",\"c\",\"d\",\"e\"])\n",
    "s1"
   ]
  },
  {
   "cell_type": "code",
   "execution_count": null,
   "id": "d9763645",
   "metadata": {},
   "outputs": [],
   "source": [
    "s2 = pd.Series([1.1,2.1,3.1,4.1,5.1])\n",
    "s2"
   ]
  },
  {
   "cell_type": "code",
   "execution_count": null,
   "id": "df929261",
   "metadata": {},
   "outputs": [],
   "source": [
    "s1 + s2"
   ]
  },
  {
   "cell_type": "code",
   "execution_count": null,
   "id": "07a051ca",
   "metadata": {},
   "outputs": [],
   "source": [
    "df1 = pd.Series(np.arange(9.).reshape(3,3), columns=list(\"bcd\"), index=[\"jammu\",\"kashmir\",\"ladakh\"])\n",
    "df2 = pd.Series(np.arange(12.).reshape(4,3), columns=list(\"abc\"), index=[\"jammu\",\"punjab\",\"kashmir\"])"
   ]
  },
  {
   "cell_type": "code",
   "execution_count": null,
   "id": "12e44a78",
   "metadata": {},
   "outputs": [],
   "source": []
  },
  {
   "cell_type": "code",
   "execution_count": null,
   "id": "19e0a197",
   "metadata": {},
   "outputs": [],
   "source": []
  },
  {
   "cell_type": "code",
   "execution_count": null,
   "id": "2fb4d42b",
   "metadata": {},
   "outputs": [],
   "source": []
  }
 ],
 "metadata": {
  "kernelspec": {
   "display_name": "Python 3 (ipykernel)",
   "language": "python",
   "name": "python3"
  },
  "language_info": {
   "codemirror_mode": {
    "name": "ipython",
    "version": 3
   },
   "file_extension": ".py",
   "mimetype": "text/x-python",
   "name": "python",
   "nbconvert_exporter": "python",
   "pygments_lexer": "ipython3",
   "version": "3.11.5"
  }
 },
 "nbformat": 4,
 "nbformat_minor": 5
}
